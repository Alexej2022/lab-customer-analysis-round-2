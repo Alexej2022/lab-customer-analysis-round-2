{
 "cells": [
  {
   "cell_type": "code",
   "execution_count": 1,
   "id": "11b6ad26",
   "metadata": {},
   "outputs": [],
   "source": [
    "##Lab | Customer Analysis Round 2\n",
    "##For this lab, we will be using the marketing_customer_analysis.csv file that you can find in the \n",
    "##files_for_lab folder. Check out the files_for_lab/about.md to get more information if you are using ##the Online Excel.\n",
    "\n",
    "##Note: For the next labs we will be using the same data file. Please save the code, so that you can \n",
    "##re-use it later in the labs following this lab.\n",
    "\n",
    "##Dealing with the data\n",
    "\n",
    "## 1 Show the dataframe shape.\n",
    "\n",
    "## 2 Standardize header names.\n",
    "\n",
    "## 3 Which columns are numerical?\n",
    "\n",
    "## 4 Which columns are categorical?\n",
    "\n",
    "## 5 Check and deal with NaN values.\n",
    "\n",
    "## 6 Datetime format - Extract the months from the dataset and store in a separate column.\n",
    "# Then filter the data to show only the information for the first quarter ,ie. \n",
    "#January, February and March. Hint: ##If data from March does not exist, consider only January \n",
    "# and February.\n",
    "\n",
    "##BONUS: Put all the previously mentioned data transformations into a function."
   ]
  },
  {
   "cell_type": "code",
   "execution_count": 2,
   "id": "2888dcf3",
   "metadata": {},
   "outputs": [],
   "source": [
    "import pandas as pd\n",
    "import numpy as np"
   ]
  },
  {
   "cell_type": "code",
   "execution_count": 3,
   "id": "874d3e99",
   "metadata": {},
   "outputs": [],
   "source": [
    "import matplotlib.pyplot as plt\n",
    "import seaborn as sns \n",
    "%matplotlib inline"
   ]
  },
  {
   "cell_type": "code",
   "execution_count": 4,
   "id": "bd18605e",
   "metadata": {},
   "outputs": [],
   "source": [
    "data = pd.read_csv(\"./files_for_lab/csv_files/marketing_customer_analysis.csv\")"
   ]
  },
  {
   "cell_type": "code",
   "execution_count": 5,
   "id": "4924e855",
   "metadata": {},
   "outputs": [
    {
     "data": {
      "text/plain": [
       "(10910, 26)"
      ]
     },
     "execution_count": 5,
     "metadata": {},
     "output_type": "execute_result"
    }
   ],
   "source": [
    "## 1 Show the dataframe shape.\n",
    "# shape of the dataframe\n",
    "data.shape"
   ]
  },
  {
   "cell_type": "code",
   "execution_count": 6,
   "id": "04d32839",
   "metadata": {},
   "outputs": [],
   "source": [
    "## 2 Standardize header names.\n",
    "# dropping column\n",
    "try:\n",
    "    data = data.drop([\"Unnamed: 0\"], axis = 1)\n",
    "except:\n",
    "    pass"
   ]
  },
  {
   "cell_type": "code",
   "execution_count": 7,
   "id": "ab96356a",
   "metadata": {},
   "outputs": [],
   "source": [
    "## 2 Standardize header names.\n",
    "# adding space between words in column name\n",
    "data = data.rename(columns={'EmploymentStatus':'Employment Status'})"
   ]
  },
  {
   "cell_type": "code",
   "execution_count": 8,
   "id": "8d01e524",
   "metadata": {},
   "outputs": [],
   "source": [
    "## 2 Standardize header names.\n",
    "# lowercase for all column headers\n",
    "cols = []\n",
    "for i in data.columns:\n",
    "    cols.append(i.lower())\n",
    "data.columns = cols"
   ]
  },
  {
   "cell_type": "code",
   "execution_count": 9,
   "id": "ecdc76c7",
   "metadata": {},
   "outputs": [],
   "source": [
    "## 2 Standardize header names.\n",
    "# in case we wanna display the dataframe with all the columns\n",
    "pd.set_option('display.max_columns', None)"
   ]
  },
  {
   "cell_type": "code",
   "execution_count": 10,
   "id": "c26feba4",
   "metadata": {},
   "outputs": [
    {
     "data": {
      "text/plain": [
       "Index(['customer lifetime value', 'income', 'monthly premium auto',\n",
       "       'months since last claim', 'months since policy inception',\n",
       "       'number of open complaints', 'number of policies',\n",
       "       'total claim amount'],\n",
       "      dtype='object')"
      ]
     },
     "metadata": {},
     "output_type": "display_data"
    },
    {
     "name": "stdout",
     "output_type": "stream",
     "text": [
      "Total column(s) with numerical values: 8\n"
     ]
    }
   ],
   "source": [
    "# 3 checking numerical values \n",
    "## 3 Which columns are numerical?\n",
    "# displaying only columns with numerical values\n",
    "display(data.select_dtypes(np.number).columns)\n",
    "print(\"Total column(s) with numerical values:\",len(data.select_dtypes(np.number).columns))"
   ]
  },
  {
   "cell_type": "code",
   "execution_count": 11,
   "id": "1067c50c",
   "metadata": {},
   "outputs": [
    {
     "data": {
      "text/plain": [
       "Index(['customer', 'state', 'response', 'coverage', 'education',\n",
       "       'effective to date', 'employment status', 'gender', 'location code',\n",
       "       'marital status', 'policy type', 'policy', 'renew offer type',\n",
       "       'sales channel', 'vehicle class', 'vehicle size', 'vehicle type'],\n",
       "      dtype='object')"
      ]
     },
     "metadata": {},
     "output_type": "display_data"
    },
    {
     "name": "stdout",
     "output_type": "stream",
     "text": [
      "Total column(s) with categorical values: 17\n"
     ]
    }
   ],
   "source": [
    "# displaying only columns with categorical values\n",
    "## 4 Which columns are categorical?\n",
    "display(data.select_dtypes(object).columns)\n",
    "print(\"Total column(s) with categorical values:\",len(data.select_dtypes(object).columns))"
   ]
  },
  {
   "cell_type": "code",
   "execution_count": 12,
   "id": "f4d7dbcc",
   "metadata": {},
   "outputs": [
    {
     "data": {
      "text/plain": [
       "customer                            0\n",
       "state                             631\n",
       "customer lifetime value             0\n",
       "response                          631\n",
       "coverage                            0\n",
       "education                           0\n",
       "effective to date                   0\n",
       "employment status                   0\n",
       "gender                              0\n",
       "income                              0\n",
       "location code                       0\n",
       "marital status                      0\n",
       "monthly premium auto                0\n",
       "months since last claim           633\n",
       "months since policy inception       0\n",
       "number of open complaints         633\n",
       "number of policies                  0\n",
       "policy type                         0\n",
       "policy                              0\n",
       "renew offer type                    0\n",
       "sales channel                       0\n",
       "total claim amount                  0\n",
       "vehicle class                     622\n",
       "vehicle size                      622\n",
       "vehicle type                     5482\n",
       "dtype: int64"
      ]
     },
     "execution_count": 12,
     "metadata": {},
     "output_type": "execute_result"
    }
   ],
   "source": [
    "## 5 Check and deal with NaN values.\n",
    "# counting nan\n",
    "data.isna().sum()"
   ]
  },
  {
   "cell_type": "code",
   "execution_count": 13,
   "id": "94f6ca67",
   "metadata": {},
   "outputs": [
    {
     "data": {
      "text/html": [
       "<div>\n",
       "<style scoped>\n",
       "    .dataframe tbody tr th:only-of-type {\n",
       "        vertical-align: middle;\n",
       "    }\n",
       "\n",
       "    .dataframe tbody tr th {\n",
       "        vertical-align: top;\n",
       "    }\n",
       "\n",
       "    .dataframe thead th {\n",
       "        text-align: right;\n",
       "    }\n",
       "</style>\n",
       "<table border=\"1\" class=\"dataframe\">\n",
       "  <thead>\n",
       "    <tr style=\"text-align: right;\">\n",
       "      <th></th>\n",
       "      <th>header_name</th>\n",
       "      <th>nulls_in_%</th>\n",
       "    </tr>\n",
       "  </thead>\n",
       "  <tbody>\n",
       "    <tr>\n",
       "      <th>0</th>\n",
       "      <td>customer</td>\n",
       "      <td>0.00</td>\n",
       "    </tr>\n",
       "    <tr>\n",
       "      <th>1</th>\n",
       "      <td>state</td>\n",
       "      <td>5.78</td>\n",
       "    </tr>\n",
       "    <tr>\n",
       "      <th>2</th>\n",
       "      <td>customer lifetime value</td>\n",
       "      <td>0.00</td>\n",
       "    </tr>\n",
       "    <tr>\n",
       "      <th>3</th>\n",
       "      <td>response</td>\n",
       "      <td>5.78</td>\n",
       "    </tr>\n",
       "    <tr>\n",
       "      <th>4</th>\n",
       "      <td>coverage</td>\n",
       "      <td>0.00</td>\n",
       "    </tr>\n",
       "    <tr>\n",
       "      <th>5</th>\n",
       "      <td>education</td>\n",
       "      <td>0.00</td>\n",
       "    </tr>\n",
       "    <tr>\n",
       "      <th>6</th>\n",
       "      <td>effective to date</td>\n",
       "      <td>0.00</td>\n",
       "    </tr>\n",
       "    <tr>\n",
       "      <th>7</th>\n",
       "      <td>employment status</td>\n",
       "      <td>0.00</td>\n",
       "    </tr>\n",
       "    <tr>\n",
       "      <th>8</th>\n",
       "      <td>gender</td>\n",
       "      <td>0.00</td>\n",
       "    </tr>\n",
       "    <tr>\n",
       "      <th>9</th>\n",
       "      <td>income</td>\n",
       "      <td>0.00</td>\n",
       "    </tr>\n",
       "    <tr>\n",
       "      <th>10</th>\n",
       "      <td>location code</td>\n",
       "      <td>0.00</td>\n",
       "    </tr>\n",
       "    <tr>\n",
       "      <th>11</th>\n",
       "      <td>marital status</td>\n",
       "      <td>0.00</td>\n",
       "    </tr>\n",
       "    <tr>\n",
       "      <th>12</th>\n",
       "      <td>monthly premium auto</td>\n",
       "      <td>0.00</td>\n",
       "    </tr>\n",
       "    <tr>\n",
       "      <th>13</th>\n",
       "      <td>months since last claim</td>\n",
       "      <td>5.80</td>\n",
       "    </tr>\n",
       "    <tr>\n",
       "      <th>14</th>\n",
       "      <td>months since policy inception</td>\n",
       "      <td>0.00</td>\n",
       "    </tr>\n",
       "    <tr>\n",
       "      <th>15</th>\n",
       "      <td>number of open complaints</td>\n",
       "      <td>5.80</td>\n",
       "    </tr>\n",
       "    <tr>\n",
       "      <th>16</th>\n",
       "      <td>number of policies</td>\n",
       "      <td>0.00</td>\n",
       "    </tr>\n",
       "    <tr>\n",
       "      <th>17</th>\n",
       "      <td>policy type</td>\n",
       "      <td>0.00</td>\n",
       "    </tr>\n",
       "    <tr>\n",
       "      <th>18</th>\n",
       "      <td>policy</td>\n",
       "      <td>0.00</td>\n",
       "    </tr>\n",
       "    <tr>\n",
       "      <th>19</th>\n",
       "      <td>renew offer type</td>\n",
       "      <td>0.00</td>\n",
       "    </tr>\n",
       "    <tr>\n",
       "      <th>20</th>\n",
       "      <td>sales channel</td>\n",
       "      <td>0.00</td>\n",
       "    </tr>\n",
       "    <tr>\n",
       "      <th>21</th>\n",
       "      <td>total claim amount</td>\n",
       "      <td>0.00</td>\n",
       "    </tr>\n",
       "    <tr>\n",
       "      <th>22</th>\n",
       "      <td>vehicle class</td>\n",
       "      <td>5.70</td>\n",
       "    </tr>\n",
       "    <tr>\n",
       "      <th>23</th>\n",
       "      <td>vehicle size</td>\n",
       "      <td>5.70</td>\n",
       "    </tr>\n",
       "    <tr>\n",
       "      <th>24</th>\n",
       "      <td>vehicle type</td>\n",
       "      <td>50.25</td>\n",
       "    </tr>\n",
       "  </tbody>\n",
       "</table>\n",
       "</div>"
      ],
      "text/plain": [
       "                      header_name  nulls_in_%\n",
       "0                        customer        0.00\n",
       "1                           state        5.78\n",
       "2         customer lifetime value        0.00\n",
       "3                        response        5.78\n",
       "4                        coverage        0.00\n",
       "5                       education        0.00\n",
       "6               effective to date        0.00\n",
       "7               employment status        0.00\n",
       "8                          gender        0.00\n",
       "9                          income        0.00\n",
       "10                  location code        0.00\n",
       "11                 marital status        0.00\n",
       "12           monthly premium auto        0.00\n",
       "13        months since last claim        5.80\n",
       "14  months since policy inception        0.00\n",
       "15      number of open complaints        5.80\n",
       "16             number of policies        0.00\n",
       "17                    policy type        0.00\n",
       "18                         policy        0.00\n",
       "19               renew offer type        0.00\n",
       "20                  sales channel        0.00\n",
       "21             total claim amount        0.00\n",
       "22                  vehicle class        5.70\n",
       "23                   vehicle size        5.70\n",
       "24                   vehicle type       50.25"
      ]
     },
     "metadata": {},
     "output_type": "display_data"
    }
   ],
   "source": [
    "## 5 Check and deal with NaN values.\n",
    "# displaying percentage of the nan values in the dataframe format,\n",
    "nulls = pd.DataFrame(round(data.isna().sum()/len(data),4)*100)\n",
    "nulls = nulls.reset_index()\n",
    "nulls.columns = ['header_name', 'nulls_in_%']\n",
    "display(nulls)"
   ]
  },
  {
   "cell_type": "code",
   "execution_count": 14,
   "id": "4d8c3b42",
   "metadata": {},
   "outputs": [
    {
     "name": "stdout",
     "output_type": "stream",
     "text": [
      "37\n"
     ]
    },
    {
     "data": {
      "text/html": [
       "<div>\n",
       "<style scoped>\n",
       "    .dataframe tbody tr th:only-of-type {\n",
       "        vertical-align: middle;\n",
       "    }\n",
       "\n",
       "    .dataframe tbody tr th {\n",
       "        vertical-align: top;\n",
       "    }\n",
       "\n",
       "    .dataframe thead th {\n",
       "        text-align: right;\n",
       "    }\n",
       "</style>\n",
       "<table border=\"1\" class=\"dataframe\">\n",
       "  <thead>\n",
       "    <tr style=\"text-align: right;\">\n",
       "      <th></th>\n",
       "      <th>customer</th>\n",
       "      <th>state</th>\n",
       "      <th>customer lifetime value</th>\n",
       "      <th>response</th>\n",
       "      <th>coverage</th>\n",
       "      <th>education</th>\n",
       "      <th>effective to date</th>\n",
       "      <th>employment status</th>\n",
       "      <th>gender</th>\n",
       "      <th>income</th>\n",
       "      <th>location code</th>\n",
       "      <th>marital status</th>\n",
       "      <th>monthly premium auto</th>\n",
       "      <th>months since last claim</th>\n",
       "      <th>months since policy inception</th>\n",
       "      <th>number of open complaints</th>\n",
       "      <th>number of policies</th>\n",
       "      <th>policy type</th>\n",
       "      <th>policy</th>\n",
       "      <th>renew offer type</th>\n",
       "      <th>sales channel</th>\n",
       "      <th>total claim amount</th>\n",
       "      <th>vehicle class</th>\n",
       "      <th>vehicle size</th>\n",
       "      <th>vehicle type</th>\n",
       "    </tr>\n",
       "  </thead>\n",
       "  <tbody>\n",
       "  </tbody>\n",
       "</table>\n",
       "</div>"
      ],
      "text/plain": [
       "Empty DataFrame\n",
       "Columns: [customer, state, customer lifetime value, response, coverage, education, effective to date, employment status, gender, income, location code, marital status, monthly premium auto, months since last claim, months since policy inception, number of open complaints, number of policies, policy type, policy, renew offer type, sales channel, total claim amount, vehicle class, vehicle size, vehicle type]\n",
       "Index: []"
      ]
     },
     "metadata": {},
     "output_type": "display_data"
    },
    {
     "name": "stdout",
     "output_type": "stream",
     "text": [
      "0\n"
     ]
    }
   ],
   "source": [
    "# looking for duplicates\n",
    "duplicate = data[data.duplicated()]\n",
    "print(len(duplicate))\n",
    "# dropping duplicates, then check again to make sure\n",
    "data = data.drop_duplicates()\n",
    "duplicate = data[data.duplicated()]\n",
    "display(duplicate)\n",
    "print(len(duplicate))"
   ]
  },
  {
   "cell_type": "code",
   "execution_count": 15,
   "id": "0397dedd",
   "metadata": {},
   "outputs": [],
   "source": [
    "## 5 Check and deal with NaN values.\n",
    "# counting nan\n",
    "# checking whether the nan are in the same row: response and state\n",
    "# prints False if the rows dont match. prints nothing if the rows match\n",
    "# saving index of the nan values to a variable\n",
    "# the variables will then be matched\n",
    "na_response = data[data['response'].isnull()].index.tolist()\n",
    "na_state = data[data['state'].isnull()].index.tolist()\n",
    "for i in range(len(na_state)):\n",
    "    if na_response[i] != na_state[i]:\n",
    "        print(False)"
   ]
  },
  {
   "cell_type": "code",
   "execution_count": 16,
   "id": "1b0d6c0a",
   "metadata": {},
   "outputs": [
    {
     "data": {
      "text/plain": [
       "No     8795\n",
       "Yes    1464\n",
       "NaN     614\n",
       "Name: response, dtype: int64"
      ]
     },
     "metadata": {},
     "output_type": "display_data"
    },
    {
     "data": {
      "text/plain": [
       "California    3548\n",
       "Oregon        2897\n",
       "Arizona       1934\n",
       "Nevada         992\n",
       "Washington     888\n",
       "NaN            614\n",
       "Name: state, dtype: int64"
      ]
     },
     "metadata": {},
     "output_type": "display_data"
    }
   ],
   "source": [
    "## 5 Check and deal with NaN values.\n",
    "# just counting unique values to find the mode, if theres any\n",
    "display(data[\"response\"].value_counts(dropna=False))\n",
    "display(data[\"state\"].value_counts(dropna=False))"
   ]
  },
  {
   "cell_type": "code",
   "execution_count": 17,
   "id": "1be794c4",
   "metadata": {},
   "outputs": [
    {
     "data": {
      "text/plain": [
       "California    4162\n",
       "Oregon        2897\n",
       "Arizona       1934\n",
       "Nevada         992\n",
       "Washington     888\n",
       "Name: state, dtype: int64"
      ]
     },
     "metadata": {},
     "output_type": "display_data"
    },
    {
     "data": {
      "text/plain": [
       "No     9409\n",
       "Yes    1464\n",
       "Name: response, dtype: int64"
      ]
     },
     "metadata": {},
     "output_type": "display_data"
    }
   ],
   "source": [
    "## 5 Check and deal with NaN values.\n",
    "# replacing nan values with mode, because adding around 5% to the mode value wont change much\n",
    "data['state'] = data['state'].fillna(\"California\")\n",
    "display(data['state'].value_counts(dropna = False))\n",
    "data['response'] = data['response'].fillna(\"No\")\n",
    "display(data['response'].value_counts(dropna = False))"
   ]
  },
  {
   "cell_type": "code",
   "execution_count": 18,
   "id": "31d5efc7",
   "metadata": {},
   "outputs": [],
   "source": [
    "## 5 Check and deal with NaN values."
   ]
  },
  {
   "cell_type": "code",
   "execution_count": 19,
   "id": "9fb11db6",
   "metadata": {},
   "outputs": [
    {
     "data": {
      "text/plain": [
       "customer                            0\n",
       "state                               0\n",
       "customer lifetime value             0\n",
       "response                            0\n",
       "coverage                            0\n",
       "education                           0\n",
       "effective to date                   0\n",
       "employment status                   0\n",
       "gender                              0\n",
       "income                              0\n",
       "location code                       0\n",
       "marital status                      0\n",
       "monthly premium auto                0\n",
       "months since last claim           623\n",
       "months since policy inception       0\n",
       "number of open complaints         623\n",
       "number of policies                  0\n",
       "policy type                         0\n",
       "policy                              0\n",
       "renew offer type                    0\n",
       "sales channel                       0\n",
       "total claim amount                  0\n",
       "vehicle class                     608\n",
       "vehicle size                      608\n",
       "vehicle type                     5465\n",
       "dtype: int64"
      ]
     },
     "execution_count": 19,
     "metadata": {},
     "output_type": "execute_result"
    }
   ],
   "source": [
    "data.isna().sum()"
   ]
  },
  {
   "cell_type": "code",
   "execution_count": 20,
   "id": "bacfb926",
   "metadata": {},
   "outputs": [],
   "source": [
    "# checking whether the nan are in the same row\n",
    "# prints False if the rows dont match. prints nothing if the rows match\n",
    "\n",
    "#saving index of the nan values to a variable\n",
    "# the variables will then be matched\n",
    "na_claim = data[data['months since last claim'].isnull()].index.tolist()\n",
    "na_complaints = data[data['number of open complaints'].isnull()].index.tolist()\n",
    "for i in range(len(na_claim)):\n",
    "    if na_claim[i] != na_complaints[i]:\n",
    "        print(False)"
   ]
  },
  {
   "cell_type": "code",
   "execution_count": 21,
   "id": "0bd28ad1",
   "metadata": {},
   "outputs": [
    {
     "data": {
      "text/html": [
       "<div>\n",
       "<style scoped>\n",
       "    .dataframe tbody tr th:only-of-type {\n",
       "        vertical-align: middle;\n",
       "    }\n",
       "\n",
       "    .dataframe tbody tr th {\n",
       "        vertical-align: top;\n",
       "    }\n",
       "\n",
       "    .dataframe thead th {\n",
       "        text-align: right;\n",
       "    }\n",
       "</style>\n",
       "<table border=\"1\" class=\"dataframe\">\n",
       "  <thead>\n",
       "    <tr style=\"text-align: right;\">\n",
       "      <th></th>\n",
       "      <th>months since last claim</th>\n",
       "      <th>number of open complaints</th>\n",
       "    </tr>\n",
       "  </thead>\n",
       "  <tbody>\n",
       "    <tr>\n",
       "      <th>count</th>\n",
       "      <td>10250.000000</td>\n",
       "      <td>10250.000000</td>\n",
       "    </tr>\n",
       "    <tr>\n",
       "      <th>mean</th>\n",
       "      <td>15.145073</td>\n",
       "      <td>0.383512</td>\n",
       "    </tr>\n",
       "    <tr>\n",
       "      <th>std</th>\n",
       "      <td>10.078893</td>\n",
       "      <td>0.911190</td>\n",
       "    </tr>\n",
       "    <tr>\n",
       "      <th>min</th>\n",
       "      <td>0.000000</td>\n",
       "      <td>0.000000</td>\n",
       "    </tr>\n",
       "    <tr>\n",
       "      <th>25%</th>\n",
       "      <td>6.000000</td>\n",
       "      <td>0.000000</td>\n",
       "    </tr>\n",
       "    <tr>\n",
       "      <th>50%</th>\n",
       "      <td>14.000000</td>\n",
       "      <td>0.000000</td>\n",
       "    </tr>\n",
       "    <tr>\n",
       "      <th>75%</th>\n",
       "      <td>23.000000</td>\n",
       "      <td>0.000000</td>\n",
       "    </tr>\n",
       "    <tr>\n",
       "      <th>max</th>\n",
       "      <td>35.000000</td>\n",
       "      <td>5.000000</td>\n",
       "    </tr>\n",
       "  </tbody>\n",
       "</table>\n",
       "</div>"
      ],
      "text/plain": [
       "       months since last claim  number of open complaints\n",
       "count             10250.000000               10250.000000\n",
       "mean                 15.145073                   0.383512\n",
       "std                  10.078893                   0.911190\n",
       "min                   0.000000                   0.000000\n",
       "25%                   6.000000                   0.000000\n",
       "50%                  14.000000                   0.000000\n",
       "75%                  23.000000                   0.000000\n",
       "max                  35.000000                   5.000000"
      ]
     },
     "metadata": {},
     "output_type": "display_data"
    },
    {
     "data": {
      "text/html": [
       "<div>\n",
       "<style scoped>\n",
       "    .dataframe tbody tr th:only-of-type {\n",
       "        vertical-align: middle;\n",
       "    }\n",
       "\n",
       "    .dataframe tbody tr th {\n",
       "        vertical-align: top;\n",
       "    }\n",
       "\n",
       "    .dataframe thead th {\n",
       "        text-align: right;\n",
       "    }\n",
       "</style>\n",
       "<table border=\"1\" class=\"dataframe\">\n",
       "  <thead>\n",
       "    <tr style=\"text-align: right;\">\n",
       "      <th></th>\n",
       "      <th>months since last claim</th>\n",
       "      <th>number of open complaints</th>\n",
       "    </tr>\n",
       "  </thead>\n",
       "  <tbody>\n",
       "    <tr>\n",
       "      <th>0</th>\n",
       "      <td>3.0</td>\n",
       "      <td>0.0</td>\n",
       "    </tr>\n",
       "  </tbody>\n",
       "</table>\n",
       "</div>"
      ],
      "text/plain": [
       "   months since last claim  number of open complaints\n",
       "0                      3.0                        0.0"
      ]
     },
     "metadata": {},
     "output_type": "display_data"
    }
   ],
   "source": [
    "# quick numerical analysis check\n",
    "display(data[[\"months since last claim\",\"number of open complaints\"]].describe())\n",
    "display(data[[\"months since last claim\",\"number of open complaints\"]].mode())"
   ]
  },
  {
   "cell_type": "code",
   "execution_count": 22,
   "id": "3c6d1a81",
   "metadata": {},
   "outputs": [
    {
     "data": {
      "image/png": "[encoded data removed]",
      "text/plain": [
       "<Figure size 640x480 with 1 Axes>"
      ]
     },
     "metadata": {},
     "output_type": "display_data"
    }
   ],
   "source": [
    "# checking the data distribution of the columns above\n",
    "sns.countplot(y = data[\"months since last claim\"])\n",
    "plt.show()"
   ]
  },
  {
   "cell_type": "code",
   "execution_count": 23,
   "id": "d39ec706",
   "metadata": {},
   "outputs": [],
   "source": [
    "# getting mean\n",
    "mean_claim = data[\"months since last claim\"].mean(skipna=True)\n",
    "# getting median\n",
    "median_complaints = data[\"months since last claim\"].median(skipna=True)"
   ]
  },
  {
   "cell_type": "code",
   "execution_count": 24,
   "id": "2c965d89",
   "metadata": {},
   "outputs": [],
   "source": [
    "# replacing nan values with mean, because the data looks evenly distributed\n",
    "data['months since last claim'] = data['months since last claim'].fillna(mean_claim)\n",
    "data['number of open complaints'] = data['number of open complaints'].fillna(median_complaints)"
   ]
  },
  {
   "cell_type": "code",
   "execution_count": 25,
   "id": "305a9b5d",
   "metadata": {},
   "outputs": [
    {
     "data": {
      "text/plain": [
       "customer                            0\n",
       "state                               0\n",
       "customer lifetime value             0\n",
       "response                            0\n",
       "coverage                            0\n",
       "education                           0\n",
       "effective to date                   0\n",
       "employment status                   0\n",
       "gender                              0\n",
       "income                              0\n",
       "location code                       0\n",
       "marital status                      0\n",
       "monthly premium auto                0\n",
       "months since last claim             0\n",
       "months since policy inception       0\n",
       "number of open complaints           0\n",
       "number of policies                  0\n",
       "policy type                         0\n",
       "policy                              0\n",
       "renew offer type                    0\n",
       "sales channel                       0\n",
       "total claim amount                  0\n",
       "vehicle class                     608\n",
       "vehicle size                      608\n",
       "vehicle type                     5465\n",
       "dtype: int64"
      ]
     },
     "execution_count": 25,
     "metadata": {},
     "output_type": "execute_result"
    }
   ],
   "source": [
    "# check again\n",
    "data.isna().sum()"
   ]
  },
  {
   "cell_type": "code",
   "execution_count": 26,
   "id": "8781b9d3",
   "metadata": {},
   "outputs": [],
   "source": [
    "# checking whether the nan are in the same row\n",
    "# prints False if the rows dont match. prints nothing if the rows match\n",
    "\n",
    "#saving index of the nan values to a variable\n",
    "# the variables will then be matched\n",
    "na_vclass = data[data['vehicle class'].isnull()].index.tolist()\n",
    "na_vsize = data[data['vehicle size'].isnull()].index.tolist()\n",
    "for i in range(len(na_vclass)):\n",
    "    if na_vclass[i] != na_vsize[i]:\n",
    "        print(False)"
   ]
  },
  {
   "cell_type": "code",
   "execution_count": 27,
   "id": "3f8363bc",
   "metadata": {},
   "outputs": [
    {
     "data": {
      "text/plain": [
       "Four-Door Car    5200\n",
       "Two-Door Car     2112\n",
       "SUV              2009\n",
       "NaN               608\n",
       "Sports Car        548\n",
       "Luxury SUV        208\n",
       "Luxury Car        188\n",
       "Name: vehicle class, dtype: int64"
      ]
     },
     "metadata": {},
     "output_type": "display_data"
    },
    {
     "data": {
      "text/plain": [
       "Medsize    7233\n",
       "Small      1962\n",
       "Large      1070\n",
       "NaN         608\n",
       "Name: vehicle size, dtype: int64"
      ]
     },
     "metadata": {},
     "output_type": "display_data"
    }
   ],
   "source": [
    "# identifying the values (and the nan)\n",
    "display(data[\"vehicle class\"].value_counts(dropna=False))\n",
    "display(data[\"vehicle size\"].value_counts(dropna=False))"
   ]
  },
  {
   "cell_type": "code",
   "execution_count": 28,
   "id": "1680a66d",
   "metadata": {},
   "outputs": [],
   "source": [
    "# replacing the nan values with mode, because modes in both columns are significantly dominant\n",
    "data['vehicle class'] = data['vehicle class'].fillna(\"Four-Door Car\")\n",
    "data['vehicle size'] = data['vehicle size'].fillna(\"Medsize\")"
   ]
  },
  {
   "cell_type": "code",
   "execution_count": 29,
   "id": "1bd1d39e",
   "metadata": {},
   "outputs": [
    {
     "data": {
      "text/plain": [
       "customer                            0\n",
       "state                               0\n",
       "customer lifetime value             0\n",
       "response                            0\n",
       "coverage                            0\n",
       "education                           0\n",
       "effective to date                   0\n",
       "employment status                   0\n",
       "gender                              0\n",
       "income                              0\n",
       "location code                       0\n",
       "marital status                      0\n",
       "monthly premium auto                0\n",
       "months since last claim             0\n",
       "months since policy inception       0\n",
       "number of open complaints           0\n",
       "number of policies                  0\n",
       "policy type                         0\n",
       "policy                              0\n",
       "renew offer type                    0\n",
       "sales channel                       0\n",
       "total claim amount                  0\n",
       "vehicle class                       0\n",
       "vehicle size                        0\n",
       "vehicle type                     5465\n",
       "dtype: int64"
      ]
     },
     "execution_count": 29,
     "metadata": {},
     "output_type": "execute_result"
    }
   ],
   "source": [
    "# checking again\n",
    "data.isna().sum()"
   ]
  },
  {
   "cell_type": "code",
   "execution_count": 30,
   "id": "1235dee9",
   "metadata": {},
   "outputs": [
    {
     "data": {
      "text/plain": [
       "vehicle type\n",
       "NaN             5465\n",
       "A               5408\n",
       "dtype: int64"
      ]
     },
     "execution_count": 30,
     "metadata": {},
     "output_type": "execute_result"
    }
   ],
   "source": [
    "# checking the last column\n",
    "data[[\"vehicle type\"]].value_counts(dropna=False)"
   ]
  },
  {
   "cell_type": "code",
   "execution_count": 31,
   "id": "0cb29b40",
   "metadata": {},
   "outputs": [],
   "source": [
    "# 2 possibilities: either put all A in nan, or put \"unknown\". \n",
    "# either way the value in that column is not significant in analyzing the data. not enough valuable info\n",
    "# therefore: drop that column\n",
    "# try:\n",
    "#     data = data.drop(['vehicle type'], axis=1)\n",
    "# except:\n",
    "#     pass\n",
    "\n",
    "# NOT DROP THE VEHICLE TYPE: SUMMON IT AGAIN BY RERUNNING IT\n",
    "# then fill the NaN with value"
   ]
  },
  {
   "cell_type": "code",
   "execution_count": 32,
   "id": "783be15e",
   "metadata": {},
   "outputs": [],
   "source": [
    "data['vehicle type'] = data['vehicle type'].fillna(\"not A\")"
   ]
  },
  {
   "cell_type": "code",
   "execution_count": 33,
   "id": "8a6989c3",
   "metadata": {},
   "outputs": [
    {
     "data": {
      "text/plain": [
       "customer                         0\n",
       "state                            0\n",
       "customer lifetime value          0\n",
       "response                         0\n",
       "coverage                         0\n",
       "education                        0\n",
       "effective to date                0\n",
       "employment status                0\n",
       "gender                           0\n",
       "income                           0\n",
       "location code                    0\n",
       "marital status                   0\n",
       "monthly premium auto             0\n",
       "months since last claim          0\n",
       "months since policy inception    0\n",
       "number of open complaints        0\n",
       "number of policies               0\n",
       "policy type                      0\n",
       "policy                           0\n",
       "renew offer type                 0\n",
       "sales channel                    0\n",
       "total claim amount               0\n",
       "vehicle class                    0\n",
       "vehicle size                     0\n",
       "vehicle type                     0\n",
       "dtype: int64"
      ]
     },
     "execution_count": 33,
     "metadata": {},
     "output_type": "execute_result"
    }
   ],
   "source": [
    "# final checking\n",
    "data.isna().sum()"
   ]
  },
  {
   "cell_type": "code",
   "execution_count": 34,
   "id": "45476831",
   "metadata": {},
   "outputs": [
    {
     "data": {
      "text/html": [
       "<div>\n",
       "<style scoped>\n",
       "    .dataframe tbody tr th:only-of-type {\n",
       "        vertical-align: middle;\n",
       "    }\n",
       "\n",
       "    .dataframe tbody tr th {\n",
       "        vertical-align: top;\n",
       "    }\n",
       "\n",
       "    .dataframe thead th {\n",
       "        text-align: right;\n",
       "    }\n",
       "</style>\n",
       "<table border=\"1\" class=\"dataframe\">\n",
       "  <thead>\n",
       "    <tr style=\"text-align: right;\">\n",
       "      <th></th>\n",
       "      <th>customer</th>\n",
       "      <th>state</th>\n",
       "      <th>customer lifetime value</th>\n",
       "      <th>response</th>\n",
       "      <th>coverage</th>\n",
       "      <th>education</th>\n",
       "      <th>effective to date</th>\n",
       "      <th>employment status</th>\n",
       "      <th>gender</th>\n",
       "      <th>income</th>\n",
       "      <th>location code</th>\n",
       "      <th>marital status</th>\n",
       "      <th>monthly premium auto</th>\n",
       "      <th>months since last claim</th>\n",
       "      <th>months since policy inception</th>\n",
       "      <th>number of open complaints</th>\n",
       "      <th>number of policies</th>\n",
       "      <th>policy type</th>\n",
       "      <th>policy</th>\n",
       "      <th>renew offer type</th>\n",
       "      <th>sales channel</th>\n",
       "      <th>total claim amount</th>\n",
       "      <th>vehicle class</th>\n",
       "      <th>vehicle size</th>\n",
       "      <th>vehicle type</th>\n",
       "      <th>month</th>\n",
       "    </tr>\n",
       "  </thead>\n",
       "  <tbody>\n",
       "    <tr>\n",
       "      <th>0</th>\n",
       "      <td>DK49336</td>\n",
       "      <td>Arizona</td>\n",
       "      <td>4809.21696</td>\n",
       "      <td>No</td>\n",
       "      <td>Basic</td>\n",
       "      <td>College</td>\n",
       "      <td>2/18/11</td>\n",
       "      <td>Employed</td>\n",
       "      <td>M</td>\n",
       "      <td>48029</td>\n",
       "      <td>Suburban</td>\n",
       "      <td>Married</td>\n",
       "      <td>61</td>\n",
       "      <td>7.0</td>\n",
       "      <td>52</td>\n",
       "      <td>0.0</td>\n",
       "      <td>9</td>\n",
       "      <td>Corporate Auto</td>\n",
       "      <td>Corporate L3</td>\n",
       "      <td>Offer3</td>\n",
       "      <td>Agent</td>\n",
       "      <td>292.8</td>\n",
       "      <td>Four-Door Car</td>\n",
       "      <td>Medsize</td>\n",
       "      <td>not A</td>\n",
       "      <td>2</td>\n",
       "    </tr>\n",
       "  </tbody>\n",
       "</table>\n",
       "</div>"
      ],
      "text/plain": [
       "  customer    state  customer lifetime value response coverage education  \\\n",
       "0  DK49336  Arizona               4809.21696       No    Basic   College   \n",
       "\n",
       "  effective to date employment status gender  income location code  \\\n",
       "0           2/18/11          Employed      M   48029      Suburban   \n",
       "\n",
       "  marital status  monthly premium auto  months since last claim  \\\n",
       "0        Married                    61                      7.0   \n",
       "\n",
       "   months since policy inception  number of open complaints  \\\n",
       "0                             52                        0.0   \n",
       "\n",
       "   number of policies     policy type        policy renew offer type  \\\n",
       "0                   9  Corporate Auto  Corporate L3           Offer3   \n",
       "\n",
       "  sales channel  total claim amount  vehicle class vehicle size vehicle type  \\\n",
       "0         Agent               292.8  Four-Door Car      Medsize        not A   \n",
       "\n",
       "   month  \n",
       "0      2  "
      ]
     },
     "execution_count": 34,
     "metadata": {},
     "output_type": "execute_result"
    }
   ],
   "source": [
    "## 6 Datetime format - Extract the months from the dataset and store in a separate column.\n",
    "# Then filter the data to show only the information for the first quarter , \n",
    "#ie. January, February and March. Hint: ##If data from March does not exist, consider only January \n",
    "# and February.\n",
    "# extracting months value from datetime column\n",
    "data['month'] = pd.DatetimeIndex(data['effective to date']).month\n",
    "data[\"month\"].value_counts(dropna=False)\n",
    "data.head(1)"
   ]
  },
  {
   "cell_type": "markdown",
   "id": "3c87cb00",
   "metadata": {},
   "source": [
    "# Round 3"
   ]
  },
  {
   "cell_type": "code",
   "execution_count": 36,
   "id": "7d27eddc",
   "metadata": {},
   "outputs": [],
   "source": [
    "# https://github.com/ironhack-labs/lab-customer-analysis-round-3\n",
    "# Lab | Customer Analysis Round 3\n",
    "# For this lab, we still keep using the marketing_customer_analysis.csv file. You can find the file in the # files_for_lab folder.\n",
    "\n",
    "# Get the data\n",
    "# Use the same jupyter file from the last lab, Customer Analysis Round 3\n",
    "\n",
    "# EDA (Exploratory Data Analysis) - Complete the following tasks to explore the data:\n",
    "\n",
    "# 1 Show DataFrame info.\n",
    "# 2 Describe DataFrame.\n",
    "# 3 Show a plot of the total number of responses.\n",
    "# 4 Show a plot of the response rate by the sales channel.\n",
    "# 5 Show a plot of the response rate by the total claim amount.\n",
    "# 6 Show a plot of the response rate by income. \n"
   ]
  },
  {
   "cell_type": "code",
   "execution_count": 37,
   "id": "39b5c784",
   "metadata": {},
   "outputs": [
    {
     "name": "stdout",
     "output_type": "stream",
     "text": [
      "<class 'pandas.core.frame.DataFrame'>\n",
      "Int64Index: 10873 entries, 0 to 10909\n",
      "Data columns (total 26 columns):\n",
      " #   Column                         Non-Null Count  Dtype  \n",
      "---  ------                         --------------  -----  \n",
      " 0   customer                       10873 non-null  object \n",
      " 1   state                          10873 non-null  object \n",
      " 2   customer lifetime value        10873 non-null  float64\n",
      " 3   response                       10873 non-null  object \n",
      " 4   coverage                       10873 non-null  object \n",
      " 5   education                      10873 non-null  object \n",
      " 6   effective to date              10873 non-null  object \n",
      " 7   employment status              10873 non-null  object \n",
      " 8   gender                         10873 non-null  object \n",
      " 9   income                         10873 non-null  int64  \n",
      " 10  location code                  10873 non-null  object \n",
      " 11  marital status                 10873 non-null  object \n",
      " 12  monthly premium auto           10873 non-null  int64  \n",
      " 13  months since last claim        10873 non-null  float64\n",
      " 14  months since policy inception  10873 non-null  int64  \n",
      " 15  number of open complaints      10873 non-null  float64\n",
      " 16  number of policies             10873 non-null  int64  \n",
      " 17  policy type                    10873 non-null  object \n",
      " 18  policy                         10873 non-null  object \n",
      " 19  renew offer type               10873 non-null  object \n",
      " 20  sales channel                  10873 non-null  object \n",
      " 21  total claim amount             10873 non-null  float64\n",
      " 22  vehicle class                  10873 non-null  object \n",
      " 23  vehicle size                   10873 non-null  object \n",
      " 24  vehicle type                   10873 non-null  object \n",
      " 25  month                          10873 non-null  int64  \n",
      "dtypes: float64(4), int64(5), object(17)\n",
      "memory usage: 2.2+ MB\n"
     ]
    }
   ],
   "source": [
    "# 1 Show DataFrame info.\n",
    "data.info()"
   ]
  },
  {
   "cell_type": "code",
   "execution_count": 38,
   "id": "f45118c5",
   "metadata": {},
   "outputs": [
    {
     "data": {
      "text/html": [
       "<div>\n",
       "<style scoped>\n",
       "    .dataframe tbody tr th:only-of-type {\n",
       "        vertical-align: middle;\n",
       "    }\n",
       "\n",
       "    .dataframe tbody tr th {\n",
       "        vertical-align: top;\n",
       "    }\n",
       "\n",
       "    .dataframe thead th {\n",
       "        text-align: right;\n",
       "    }\n",
       "</style>\n",
       "<table border=\"1\" class=\"dataframe\">\n",
       "  <thead>\n",
       "    <tr style=\"text-align: right;\">\n",
       "      <th></th>\n",
       "      <th>customer lifetime value</th>\n",
       "      <th>income</th>\n",
       "      <th>monthly premium auto</th>\n",
       "      <th>months since last claim</th>\n",
       "      <th>months since policy inception</th>\n",
       "      <th>number of open complaints</th>\n",
       "      <th>number of policies</th>\n",
       "      <th>total claim amount</th>\n",
       "      <th>month</th>\n",
       "    </tr>\n",
       "  </thead>\n",
       "  <tbody>\n",
       "    <tr>\n",
       "      <th>count</th>\n",
       "      <td>10873.000000</td>\n",
       "      <td>10873.000000</td>\n",
       "      <td>10873.000000</td>\n",
       "      <td>10873.000000</td>\n",
       "      <td>10873.000000</td>\n",
       "      <td>10873.000000</td>\n",
       "      <td>10873.000000</td>\n",
       "      <td>10873.000000</td>\n",
       "      <td>10873.000000</td>\n",
       "    </tr>\n",
       "    <tr>\n",
       "      <th>mean</th>\n",
       "      <td>8016.881720</td>\n",
       "      <td>37537.101444</td>\n",
       "      <td>93.216684</td>\n",
       "      <td>15.145073</td>\n",
       "      <td>48.098777</td>\n",
       "      <td>1.163708</td>\n",
       "      <td>2.977467</td>\n",
       "      <td>434.902879</td>\n",
       "      <td>1.466661</td>\n",
       "    </tr>\n",
       "    <tr>\n",
       "      <th>std</th>\n",
       "      <td>6884.829202</td>\n",
       "      <td>30362.078350</td>\n",
       "      <td>34.454801</td>\n",
       "      <td>9.785857</td>\n",
       "      <td>27.929932</td>\n",
       "      <td>3.286097</td>\n",
       "      <td>2.397752</td>\n",
       "      <td>292.233402</td>\n",
       "      <td>0.498910</td>\n",
       "    </tr>\n",
       "    <tr>\n",
       "      <th>min</th>\n",
       "      <td>1898.007675</td>\n",
       "      <td>0.000000</td>\n",
       "      <td>61.000000</td>\n",
       "      <td>0.000000</td>\n",
       "      <td>0.000000</td>\n",
       "      <td>0.000000</td>\n",
       "      <td>1.000000</td>\n",
       "      <td>0.099007</td>\n",
       "      <td>1.000000</td>\n",
       "    </tr>\n",
       "    <tr>\n",
       "      <th>25%</th>\n",
       "      <td>4014.453113</td>\n",
       "      <td>0.000000</td>\n",
       "      <td>68.000000</td>\n",
       "      <td>7.000000</td>\n",
       "      <td>24.000000</td>\n",
       "      <td>0.000000</td>\n",
       "      <td>1.000000</td>\n",
       "      <td>271.014511</td>\n",
       "      <td>1.000000</td>\n",
       "    </tr>\n",
       "    <tr>\n",
       "      <th>50%</th>\n",
       "      <td>5768.830622</td>\n",
       "      <td>33811.000000</td>\n",
       "      <td>83.000000</td>\n",
       "      <td>15.000000</td>\n",
       "      <td>48.000000</td>\n",
       "      <td>0.000000</td>\n",
       "      <td>2.000000</td>\n",
       "      <td>383.363758</td>\n",
       "      <td>1.000000</td>\n",
       "    </tr>\n",
       "    <tr>\n",
       "      <th>75%</th>\n",
       "      <td>8996.774075</td>\n",
       "      <td>62262.000000</td>\n",
       "      <td>109.000000</td>\n",
       "      <td>23.000000</td>\n",
       "      <td>71.000000</td>\n",
       "      <td>1.000000</td>\n",
       "      <td>4.000000</td>\n",
       "      <td>547.200000</td>\n",
       "      <td>2.000000</td>\n",
       "    </tr>\n",
       "    <tr>\n",
       "      <th>max</th>\n",
       "      <td>83325.381190</td>\n",
       "      <td>99981.000000</td>\n",
       "      <td>298.000000</td>\n",
       "      <td>35.000000</td>\n",
       "      <td>99.000000</td>\n",
       "      <td>14.000000</td>\n",
       "      <td>9.000000</td>\n",
       "      <td>2893.239678</td>\n",
       "      <td>2.000000</td>\n",
       "    </tr>\n",
       "  </tbody>\n",
       "</table>\n",
       "</div>"
      ],
      "text/plain": [
       "       customer lifetime value        income  monthly premium auto  \\\n",
       "count             10873.000000  10873.000000          10873.000000   \n",
       "mean               8016.881720  37537.101444             93.216684   \n",
       "std                6884.829202  30362.078350             34.454801   \n",
       "min                1898.007675      0.000000             61.000000   \n",
       "25%                4014.453113      0.000000             68.000000   \n",
       "50%                5768.830622  33811.000000             83.000000   \n",
       "75%                8996.774075  62262.000000            109.000000   \n",
       "max               83325.381190  99981.000000            298.000000   \n",
       "\n",
       "       months since last claim  months since policy inception  \\\n",
       "count             10873.000000                   10873.000000   \n",
       "mean                 15.145073                      48.098777   \n",
       "std                   9.785857                      27.929932   \n",
       "min                   0.000000                       0.000000   \n",
       "25%                   7.000000                      24.000000   \n",
       "50%                  15.000000                      48.000000   \n",
       "75%                  23.000000                      71.000000   \n",
       "max                  35.000000                      99.000000   \n",
       "\n",
       "       number of open complaints  number of policies  total claim amount  \\\n",
       "count               10873.000000        10873.000000        10873.000000   \n",
       "mean                    1.163708            2.977467          434.902879   \n",
       "std                     3.286097            2.397752          292.233402   \n",
       "min                     0.000000            1.000000            0.099007   \n",
       "25%                     0.000000            1.000000          271.014511   \n",
       "50%                     0.000000            2.000000          383.363758   \n",
       "75%                     1.000000            4.000000          547.200000   \n",
       "max                    14.000000            9.000000         2893.239678   \n",
       "\n",
       "              month  \n",
       "count  10873.000000  \n",
       "mean       1.466661  \n",
       "std        0.498910  \n",
       "min        1.000000  \n",
       "25%        1.000000  \n",
       "50%        1.000000  \n",
       "75%        2.000000  \n",
       "max        2.000000  "
      ]
     },
     "execution_count": 38,
     "metadata": {},
     "output_type": "execute_result"
    }
   ],
   "source": [
    "# 2 Describe DataFrame.\n",
    "data.describe()"
   ]
  },
  {
   "cell_type": "code",
   "execution_count": 39,
   "id": "80bb54e7",
   "metadata": {},
   "outputs": [
    {
     "data": {
      "text/html": [
       "<div>\n",
       "<style scoped>\n",
       "    .dataframe tbody tr th:only-of-type {\n",
       "        vertical-align: middle;\n",
       "    }\n",
       "\n",
       "    .dataframe tbody tr th {\n",
       "        vertical-align: top;\n",
       "    }\n",
       "\n",
       "    .dataframe thead th {\n",
       "        text-align: right;\n",
       "    }\n",
       "</style>\n",
       "<table border=\"1\" class=\"dataframe\">\n",
       "  <thead>\n",
       "    <tr style=\"text-align: right;\">\n",
       "      <th></th>\n",
       "      <th>customer</th>\n",
       "      <th>state</th>\n",
       "      <th>customer lifetime value</th>\n",
       "      <th>response</th>\n",
       "      <th>coverage</th>\n",
       "      <th>education</th>\n",
       "      <th>effective to date</th>\n",
       "      <th>employment status</th>\n",
       "      <th>gender</th>\n",
       "      <th>income</th>\n",
       "      <th>location code</th>\n",
       "      <th>marital status</th>\n",
       "      <th>monthly premium auto</th>\n",
       "      <th>months since last claim</th>\n",
       "      <th>months since policy inception</th>\n",
       "      <th>number of open complaints</th>\n",
       "      <th>number of policies</th>\n",
       "      <th>policy type</th>\n",
       "      <th>policy</th>\n",
       "      <th>renew offer type</th>\n",
       "      <th>sales channel</th>\n",
       "      <th>total claim amount</th>\n",
       "      <th>vehicle class</th>\n",
       "      <th>vehicle size</th>\n",
       "      <th>vehicle type</th>\n",
       "      <th>month</th>\n",
       "    </tr>\n",
       "  </thead>\n",
       "  <tbody>\n",
       "    <tr>\n",
       "      <th>0</th>\n",
       "      <td>DK49336</td>\n",
       "      <td>Arizona</td>\n",
       "      <td>4809.21696</td>\n",
       "      <td>No</td>\n",
       "      <td>Basic</td>\n",
       "      <td>College</td>\n",
       "      <td>2/18/11</td>\n",
       "      <td>Employed</td>\n",
       "      <td>M</td>\n",
       "      <td>48029</td>\n",
       "      <td>Suburban</td>\n",
       "      <td>Married</td>\n",
       "      <td>61</td>\n",
       "      <td>7.0</td>\n",
       "      <td>52</td>\n",
       "      <td>0.0</td>\n",
       "      <td>9</td>\n",
       "      <td>Corporate Auto</td>\n",
       "      <td>Corporate L3</td>\n",
       "      <td>Offer3</td>\n",
       "      <td>Agent</td>\n",
       "      <td>292.8</td>\n",
       "      <td>Four-Door Car</td>\n",
       "      <td>Medsize</td>\n",
       "      <td>not A</td>\n",
       "      <td>2</td>\n",
       "    </tr>\n",
       "  </tbody>\n",
       "</table>\n",
       "</div>"
      ],
      "text/plain": [
       "  customer    state  customer lifetime value response coverage education  \\\n",
       "0  DK49336  Arizona               4809.21696       No    Basic   College   \n",
       "\n",
       "  effective to date employment status gender  income location code  \\\n",
       "0           2/18/11          Employed      M   48029      Suburban   \n",
       "\n",
       "  marital status  monthly premium auto  months since last claim  \\\n",
       "0        Married                    61                      7.0   \n",
       "\n",
       "   months since policy inception  number of open complaints  \\\n",
       "0                             52                        0.0   \n",
       "\n",
       "   number of policies     policy type        policy renew offer type  \\\n",
       "0                   9  Corporate Auto  Corporate L3           Offer3   \n",
       "\n",
       "  sales channel  total claim amount  vehicle class vehicle size vehicle type  \\\n",
       "0         Agent               292.8  Four-Door Car      Medsize        not A   \n",
       "\n",
       "   month  \n",
       "0      2  "
      ]
     },
     "execution_count": 39,
     "metadata": {},
     "output_type": "execute_result"
    }
   ],
   "source": [
    "# 2 Describe DataFrame.\n",
    "# display data\n",
    "data.head(1)"
   ]
  },
  {
   "cell_type": "code",
   "execution_count": 40,
   "id": "358de209",
   "metadata": {},
   "outputs": [
    {
     "data": {
      "image/png": "[encoded data removed]",
      "text/plain": [
       "<Figure size 640x480 with 1 Axes>"
      ]
     },
     "metadata": {},
     "output_type": "display_data"
    }
   ],
   "source": [
    "# 3 Show a plot of the total number of responses.\n",
    "# total number of response: countplot\n",
    "sns.countplot(x = \"response\", data = data)\n",
    "plt.show()"
   ]
  },
  {
   "cell_type": "code",
   "execution_count": 41,
   "id": "11978ccb",
   "metadata": {},
   "outputs": [
    {
     "data": {
      "text/plain": [
       "0    9409\n",
       "1    1464\n",
       "Name: response_num, dtype: int64"
      ]
     },
     "execution_count": 41,
     "metadata": {},
     "output_type": "execute_result"
    }
   ],
   "source": [
    "# 3 Show a plot of the total number of responses.\n",
    "# adding numerical response to the dataframe\n",
    "data [\"response_num\"] = data[\"response\"].map(dict(Yes = 1, No = 0))\n",
    "# checking the new column\n",
    "data[\"response_num\"].value_counts(dropna=False)"
   ]
  },
  {
   "cell_type": "code",
   "execution_count": 42,
   "id": "ace8f1b0",
   "metadata": {},
   "outputs": [
    {
     "data": {
      "image/png": "[encoded data removed]",
      "text/plain": [
       "<Figure size 640x480 with 1 Axes>"
      ]
     },
     "metadata": {},
     "output_type": "display_data"
    },
    {
     "name": "stdout",
     "output_type": "stream",
     "text": [
      "display barplot sales channel\n"
     ]
    }
   ],
   "source": [
    "# 4 Show a plot of the response rate by the sales channel.\n",
    "# showing a plot of response rate (num) by the sales channel\n",
    "sns.barplot(x = \"response_num\", y = \"sales channel\", data = data)\n",
    "plt.show()\n",
    "print(\"display barplot sales channel\")"
   ]
  },
  {
   "cell_type": "code",
   "execution_count": 43,
   "id": "9a021a4c",
   "metadata": {},
   "outputs": [
    {
     "data": {
      "image/png": "[encoded data removed]",
      "text/plain": [
       "<Figure size 640x480 with 1 Axes>"
      ]
     },
     "metadata": {},
     "output_type": "display_data"
    },
    {
     "name": "stdout",
     "output_type": "stream",
     "text": [
      "barplot total claim amount display\n"
     ]
    }
   ],
   "source": [
    "# 5 Show a plot of the response rate by the total claim amount.\n",
    "# making the bins first (splitting claim values between intervals)\n",
    "data['claim_cat'] = pd.qcut(data['total claim amount'], q=10)\n",
    "sns.barplot(x = data[\"response_num\"], y = data['claim_cat'])\n",
    "plt.show()\n",
    "print(\"barplot total claim amount display\")"
   ]
  },
  {
   "cell_type": "code",
   "execution_count": 44,
   "id": "d4490fdc",
   "metadata": {},
   "outputs": [
    {
     "data": {
      "image/png": "[encoded data removed]",
      "text/plain": [
       "<Figure size 640x480 with 1 Axes>"
      ]
     },
     "metadata": {},
     "output_type": "display_data"
    },
    {
     "name": "stdout",
     "output_type": "stream",
     "text": [
      "barplot for income with bins\n"
     ]
    }
   ],
   "source": [
    "# 6 Show a plot of the response rate by income.\n",
    "data['income_cat'] = pd.qcut(data['income'], q=10, duplicates='drop')\n",
    "sns.barplot(x = data[\"response_num\"], y = data['income_cat'])\n",
    "plt.show()\n",
    "print(\"barplot for income with bins\")"
   ]
  },
  {
   "cell_type": "code",
   "execution_count": null,
   "id": "9f3240a6",
   "metadata": {},
   "outputs": [],
   "source": []
  }
 ],
 "metadata": {
  "kernelspec": {
   "display_name": "Python 3 (ipykernel)",
   "language": "python",
   "name": "python3"
  },
  "language_info": {
   "codemirror_mode": {
    "name": "ipython",
    "version": 3
   },
   "file_extension": ".py",
   "mimetype": "text/x-python",
   "name": "python",
   "nbconvert_exporter": "python",
   "pygments_lexer": "ipython3",
   "version": "3.9.13"
  }
 },
 "nbformat": 4,
 "nbformat_minor": 5
}
